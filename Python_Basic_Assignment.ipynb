{
  "nbformat": 4,
  "nbformat_minor": 0,
  "metadata": {
    "colab": {
      "provenance": [],
      "authorship_tag": "ABX9TyNdsGIZmZXNZktFehlvw9pJ",
      "include_colab_link": true
    },
    "kernelspec": {
      "name": "python3",
      "display_name": "Python 3"
    },
    "language_info": {
      "name": "python"
    }
  },
  "cells": [
    {
      "cell_type": "markdown",
      "metadata": {
        "id": "view-in-github",
        "colab_type": "text"
      },
      "source": [
        "<a href=\"https://colab.research.google.com/github/DebajyotiSarkhel/PYTHON/blob/main/Python_Basic_Assignment.ipynb\" target=\"_parent\"><img src=\"https://colab.research.google.com/assets/colab-badge.svg\" alt=\"Open In Colab\"/></a>"
      ]
    },
    {
      "cell_type": "markdown",
      "source": [
        "Section 1\n",
        "1.What is python and and why is it popular?\n",
        "\n",
        "Ans: Python is a hig level interepreted programming languages known for his simplicity and readibility. It is used for variety of purposes like Data Analyst, Machine Leaning, Web Development, Artificial Intelligence and many more.\n",
        "Python is popular:\n",
        ">Easy top learn: It's simple and readable syntax makes it great for beginners.\n",
        ">Versatile: It's used in may fields like AI, Machine Learning, Web Development and many more.\n",
        ">Large Community: Huge number of resources,libraries and frameworks are available.\n",
        "> Cross Platform: It runs on multiple platforms.\n",
        ">High Demand: Widely used in the industry and creating lots of job opportunities.\n",
        "\n",
        "\n",
        "2.What is interpreter in Python?\n",
        "\n",
        "Ans: An interpreter in python is a program that reads and executes pythone code line by line. It translates high-level Python code in to machine-readable instructions and runs them immediately, without need for sepate compilation step which makes it easy to test and debug the code interactively.\n",
        "\n",
        "\n",
        "3.What are pre-defined codes in python?\n",
        "\n",
        "Ans:\n",
        ">Pre-defined keywords are python are special words, which have hios own specific roles, which control and manage the flow of program.\n",
        ">Keywords are used to define the syntax of the coding. The keyword can not be used as identifier, function or variable name.\n",
        ">All keywords in python are written in lowercase except True and False.\n",
        ">Thers is and inbuilt keyword module that provide and iskey() that can be used to check wheter a given string is valid keyword or not.\n",
        ">Furthermore we can check the name of the keywords in python by using kwlist attributes of keyword module.\n",
        ">Keywords contain meaning and functionality and these words can not be used in variables.\n",
        ">These words can not be used as varaible names, function names or identifiers.\n",
        "\n",
        "\n",
        "4.Can keywords be used as variable names?\n",
        "\n",
        "Ans: No, keywords can not be used as variable names in python.\n",
        "\n",
        "5.What is mutability in python?\n",
        "\n",
        "Ans: Mutability in python refers to the ability of an object to be changed after it is created.\n",
        "\n",
        "\n",
        "\n",
        "\n",
        "\n",
        "\n"
      ],
      "metadata": {
        "id": "_oC4jM7F01FG"
      }
    },
    {
      "cell_type": "code",
      "source": [
        "#Mutable example (list)"
      ],
      "metadata": {
        "id": "DGLkf3Urk4Bp"
      },
      "execution_count": null,
      "outputs": []
    },
    {
      "cell_type": "code",
      "source": [
        "my_list = [1, 2, 3]\n",
        "my_list[0] = 10\n",
        "print(my_list)\n",
        "#output:"
      ],
      "metadata": {
        "colab": {
          "base_uri": "https://localhost:8080/"
        },
        "id": "050OVFFNk9Wa",
        "outputId": "2853e0aa-ddaa-4b78-ef07-629a973ebe4f"
      },
      "execution_count": null,
      "outputs": [
        {
          "output_type": "stream",
          "name": "stdout",
          "text": [
            "[10, 2, 3]\n"
          ]
        }
      ]
    },
    {
      "cell_type": "markdown",
      "source": [
        "6.Why are lists mutable, but tuples are im-mutable?\n",
        "\n",
        "Ans: Lists are mutable, while tuples are im-mutable, due to design chioces in puython to provide different behaviours for these data structures.\n",
        "\n",
        "7.What is the difference between \"==\" and \"is\" operators in python?\n",
        "\n",
        "Ans: In python both \"==\" and \"is\" used for comparison but they serve different purpose.\n",
        "==(Eqaulity Opeartor): Compares the values of two objects to check if they are equal.\n",
        "is(Identity Operator): Compares the memory addresses of two objects to check if they are the same object in memory.  "
      ],
      "metadata": {
        "id": "skCw6YSYlOm-"
      }
    },
    {
      "cell_type": "code",
      "source": [
        "a= [1, 2, 3]\n",
        "b= [1, 2, 3]\n",
        "print(a == b)\n",
        "#output"
      ],
      "metadata": {
        "colab": {
          "base_uri": "https://localhost:8080/"
        },
        "id": "04jCq9BNnXcb",
        "outputId": "0f1efb5a-9a3e-47ca-9b63-e81faefa0103"
      },
      "execution_count": null,
      "outputs": [
        {
          "output_type": "stream",
          "name": "stdout",
          "text": [
            "True\n"
          ]
        }
      ]
    },
    {
      "cell_type": "code",
      "source": [
        "a= [1, 2, 3]\n",
        "b= [1, 2, 3]\n",
        "print(a is b)\n",
        "#output"
      ],
      "metadata": {
        "colab": {
          "base_uri": "https://localhost:8080/"
        },
        "id": "kbG8g7Wpn-5k",
        "outputId": "dab61a86-ed90-405c-ac38-0ef27c3bfa7d"
      },
      "execution_count": null,
      "outputs": [
        {
          "output_type": "stream",
          "name": "stdout",
          "text": [
            "False\n"
          ]
        }
      ]
    },
    {
      "cell_type": "markdown",
      "source": [
        "8.What is logical operators in python?\n",
        "\n",
        "Ans: Logical operators are used to combine conditional statements and perform logical operations. They allow to make decissions on multiple conditions by using (and, or, not) operators.\n",
        "\n",
        "9.What is type casting in python?\n",
        "\n",
        "Ans: Type casting is a method to convert python variables datatype into a certain datatype in order to perform the required operations by users. There are two types of typecasting in python.\n",
        "     >Python implict type conversion\n",
        "     >Python explict type conversion\n",
        "\n",
        "10.What is the difference between implict and explict type casting?\n",
        "\n",
        "Ans: Implict Type Casting:\n",
        "Python automatically converts one data type to another when needed without requiring the user to explicity do it."
      ],
      "metadata": {
        "id": "-CoO5GfNob81"
      }
    },
    {
      "cell_type": "code",
      "source": [
        "x = 5\n",
        "y = 2.5\n",
        "result = x + y\n",
        "print(result)\n",
        "#output"
      ],
      "metadata": {
        "colab": {
          "base_uri": "https://localhost:8080/"
        },
        "id": "bBJVjqOZiWrl",
        "outputId": "b911a8b6-9c98-499a-a696-b31819977bd3"
      },
      "execution_count": null,
      "outputs": [
        {
          "output_type": "stream",
          "name": "stdout",
          "text": [
            "7.5\n"
          ]
        }
      ]
    },
    {
      "cell_type": "markdown",
      "source": [
        "Explicit Type Casting: Python allows you to expilicitly convert one data type to another using built-in functions. These functions include\n",
        "int(): Converts a value to an integer.\n",
        "float(): Converts a value to a float.\n",
        "str(): Converts a value to a string.\n",
        "list(): Converts a value to a list.\n",
        "tuple(): Converts a value to a tuple."
      ],
      "metadata": {
        "id": "xhesn32li3Ek"
      }
    },
    {
      "cell_type": "code",
      "source": [
        "# Converting a string to an integer\n",
        "str_value = \"42\"\n",
        "int_value = int(str_value)\n",
        "print(int_value)\n",
        "#output"
      ],
      "metadata": {
        "colab": {
          "base_uri": "https://localhost:8080/"
        },
        "id": "BD07YjmAjsBk",
        "outputId": "4eb8ff24-fa43-4ca5-a07f-8cb8186d945e"
      },
      "execution_count": null,
      "outputs": [
        {
          "output_type": "stream",
          "name": "stdout",
          "text": [
            "42\n"
          ]
        }
      ]
    },
    {
      "cell_type": "code",
      "source": [
        "# Converting a float to an integer (explicit casting)\n",
        "float_value = 3.14\n",
        "int_value = int(float_value)\n",
        "print(int_value)\n",
        "#output"
      ],
      "metadata": {
        "colab": {
          "base_uri": "https://localhost:8080/"
        },
        "id": "hM2sVNqKj6QK",
        "outputId": "6dd46559-e917-4fc9-f859-f744c30dda77"
      },
      "execution_count": null,
      "outputs": [
        {
          "output_type": "stream",
          "name": "stdout",
          "text": [
            "3\n"
          ]
        }
      ]
    },
    {
      "cell_type": "markdown",
      "source": [
        "11.What is purpose of conditional statements in python?\n",
        "\n",
        "Ans: Purpose of conditional statement in python is to allow the program to make decissions and execute specific blocks of code based on whether certain condition are True or False.\n",
        "Types of Conditional Statements:\n",
        "\n",
        ">if Statements: The if statement is used to check statements. If the condition is True, the code inside the block is executed.\n",
        ">else Statements: The else statement is used to execuet the block if the condition in the statement is False.\n",
        ">elif Statements: The elif (short of \"else if\") statement is used to test multiple conditions. It allows to check multiple conditions if the condition is False."
      ],
      "metadata": {
        "id": "9I49fCpRkYED"
      }
    },
    {
      "cell_type": "code",
      "source": [
        "# if statement\n",
        "x = 10\n",
        "if x > 5:\n",
        "  print(\"x is greater than 5\")"
      ],
      "metadata": {
        "colab": {
          "base_uri": "https://localhost:8080/"
        },
        "id": "lM1zANKompaY",
        "outputId": "e1c4d87e-d607-4876-ad0b-3983d0d315aa"
      },
      "execution_count": null,
      "outputs": [
        {
          "output_type": "stream",
          "name": "stdout",
          "text": [
            "x is greater than 5\n"
          ]
        }
      ]
    },
    {
      "cell_type": "code",
      "source": [
        "# else statement\n",
        "x = 3\n",
        "if x > 5:\n",
        "  print(\"x is greater than 5\")\n",
        "else:\n",
        "  print(\"x is not greater than 5\")"
      ],
      "metadata": {
        "colab": {
          "base_uri": "https://localhost:8080/"
        },
        "id": "4ZDb_SKxm5FK",
        "outputId": "6de51e19-3e52-4fad-ffdd-5de4c81be46f"
      },
      "execution_count": null,
      "outputs": [
        {
          "output_type": "stream",
          "name": "stdout",
          "text": [
            "x is not greater than 5\n"
          ]
        }
      ]
    },
    {
      "cell_type": "code",
      "source": [
        "# elif statement\n",
        "x = 7\n",
        "if x > 10:\n",
        "  print(\"x is greater than 10\")\n",
        "elif x > 5:\n",
        "  print(\"x is greater than 5 but not greater than 10\")\n",
        "else:\n",
        "  print(\"x is not greater than 5\")"
      ],
      "metadata": {
        "colab": {
          "base_uri": "https://localhost:8080/"
        },
        "id": "K6cobkDonNO1",
        "outputId": "89da977c-4969-426f-8384-6d766940d291"
      },
      "execution_count": null,
      "outputs": [
        {
          "output_type": "stream",
          "name": "stdout",
          "text": [
            "x is greater than 5 but not greater than 10\n"
          ]
        }
      ]
    },
    {
      "cell_type": "markdown",
      "source": [
        "12.How does elif statement work?\n",
        "\n",
        "Ans: The elif statement in python stands for \"else if\". It allows to check multiple conditions in sequence after an initial if statement. If the condition of if statement is False, Python checks conditions of each elif in order. If one of the elif conditions is True, the corresponding block of code is executed. If none of the if or elif conditions are True, the else block(if provided) is executed.\n",
        "\n",
        "How elif works:\n",
        ">First python check the conditions in the statement.\n",
        ">If the if condition is True, the code block under if runs, and the rest of the elif and else conditions are skipped.\n",
        "> If the if condition is False, Python checks the next condition in the elif statement.\n",
        ">If the elif condition is TRUE, the code blocks under elif block (if presenet)is executed.\n"
      ],
      "metadata": {
        "id": "SzJ9obo-nc5m"
      }
    },
    {
      "cell_type": "code",
      "source": [
        "x = 15\n",
        "if x > 10:\n",
        "  print(\"x is greater than 10\")\n",
        "elif x > 5:\n",
        "  print(\"x is greater than 5 but less than or equal to 10\")\n",
        "else:\n",
        "  print(\"x is 10 or less\")\n",
        "#output"
      ],
      "metadata": {
        "colab": {
          "base_uri": "https://localhost:8080/"
        },
        "id": "j8NJi_UGvt5a",
        "outputId": "30ce2616-8cdb-4a4a-ed8e-a9ffb4640636"
      },
      "execution_count": null,
      "outputs": [
        {
          "output_type": "stream",
          "name": "stdout",
          "text": [
            "x is greater than 10\n"
          ]
        }
      ]
    },
    {
      "cell_type": "markdown",
      "source": [
        "13.What is the difference between for and while loops?\n",
        "\n",
        "Ans: for Loops:\n",
        ">The for loop is used for iterating over a sequence (like a list, tuple, string or range).\n",
        ">It is typically used when the number of iterations is known.\n",
        ">Use case: The for loop is used when the number of iterations is known or when iterating over collections.\n",
        "\n",
        "while Loops:\n",
        ">The while loops runs as long as the condition is true.\n",
        ">Typically used when the number of iterations is known and depends on conditions.\n",
        ">Use case: While loop is used when you do not the number of iterations in advance but want to repeat until a certain condition is met."
      ],
      "metadata": {
        "id": "xu916bbAwXuy"
      }
    },
    {
      "cell_type": "code",
      "source": [
        "# Iterating through a list using a for loop\n",
        "fruits = [\"apple\", \"banana\", \"orange\"]\n",
        "for fruits in fruits:\n",
        "  print(fruits)"
      ],
      "metadata": {
        "colab": {
          "base_uri": "https://localhost:8080/"
        },
        "id": "BHgdruSrx-b2",
        "outputId": "4e5bb2b4-a2ad-43a3-c348-f04391a6bcfd"
      },
      "execution_count": null,
      "outputs": [
        {
          "output_type": "stream",
          "name": "stdout",
          "text": [
            "apple\n",
            "banana\n",
            "orange\n"
          ]
        }
      ]
    },
    {
      "cell_type": "code",
      "source": [
        "# Using while loop\n",
        "x = 1\n",
        "while x <= 5:\n",
        "  print(x)\n",
        "  x += 1"
      ],
      "metadata": {
        "colab": {
          "base_uri": "https://localhost:8080/"
        },
        "id": "xQfnYCDUyZ_y",
        "outputId": "8b99d882-84cb-4959-84e1-aee469f00502"
      },
      "execution_count": null,
      "outputs": [
        {
          "output_type": "stream",
          "name": "stdout",
          "text": [
            "1\n",
            "2\n",
            "3\n",
            "4\n",
            "5\n"
          ]
        }
      ]
    },
    {
      "cell_type": "markdown",
      "source": [
        "14.Describe a scenario where a while loop is more suitable than a for loop?\n",
        "\n",
        "Ans: A while loop is more suitable than a for loop in situations where the number if iterations is known and depends on a dynamic conditions that can change during the loop executions.\n",
        "\n",
        "Scenario: User Input Validation\n",
        "\n",
        ">Consider the scenario where you want to ask the user for their age.\n",
        ">The user should enter the bvalid age(a positive integer).\n",
        ">If the user an invalid age(negative number or non-numeric input), the program should keep asking until a valid input is given."
      ],
      "metadata": {
        "id": "_3N-aUM7xH56"
      }
    },
    {
      "cell_type": "markdown",
      "source": [
        "S\n",
        "1.Write a python program to print \"hello world\"."
      ],
      "metadata": {
        "id": "lIKGBXvG3oCP"
      }
    },
    {
      "cell_type": "code",
      "source": [
        "print(\"Hello World\")"
      ],
      "metadata": {
        "colab": {
          "base_uri": "https://localhost:8080/"
        },
        "id": "-D7IRqMn3ynm",
        "outputId": "555bdf71-ff00-44f5-e591-282c7c5982fe"
      },
      "execution_count": null,
      "outputs": [
        {
          "output_type": "stream",
          "name": "stdout",
          "text": [
            "Hello World\n"
          ]
        }
      ]
    },
    {
      "cell_type": "markdown",
      "source": [
        "2.Write a python program that displays you name and age."
      ],
      "metadata": {
        "id": "qEg1-teC5ium"
      }
    },
    {
      "cell_type": "code",
      "source": [
        "name = \"Debajyoti Sarkhel\"\n",
        "age = \"29\"\n",
        "print(\"Hi my name is: \",name, age)"
      ],
      "metadata": {
        "colab": {
          "base_uri": "https://localhost:8080/"
        },
        "id": "jxiB55OE7pn4",
        "outputId": "c4568862-5f78-41e0-cdb7-c4cf25e51489"
      },
      "execution_count": null,
      "outputs": [
        {
          "output_type": "stream",
          "name": "stdout",
          "text": [
            "Hi my name is:  Debajyoti Sarkhel 29\n"
          ]
        }
      ]
    },
    {
      "cell_type": "code",
      "source": [
        "name = \"Debajyoti Sarkhel\"\n",
        "age = \"29\"\n",
        "print(f\"Hi my name is {name} and I am {age} years old.\")"
      ],
      "metadata": {
        "colab": {
          "base_uri": "https://localhost:8080/"
        },
        "id": "SM2Sj8-581sQ",
        "outputId": "1aab3b0c-c49b-4ef9-c8f9-58305874b9cf"
      },
      "execution_count": null,
      "outputs": [
        {
          "output_type": "stream",
          "name": "stdout",
          "text": [
            "Hi my name is Debajyoti Sarkhel and I am 29 years old.\n"
          ]
        }
      ]
    },
    {
      "cell_type": "markdown",
      "source": [
        "3.Write code to print all the pre-defined keywords in python using the keyword library."
      ],
      "metadata": {
        "id": "EAhtOz4s9VZg"
      }
    },
    {
      "cell_type": "code",
      "source": [
        "import keyword\n",
        "print(keyword.kwlist)"
      ],
      "metadata": {
        "colab": {
          "base_uri": "https://localhost:8080/"
        },
        "id": "nUXIQN__-ZHd",
        "outputId": "ac9c902a-7a6b-4b38-d064-ba5015fdb55d"
      },
      "execution_count": null,
      "outputs": [
        {
          "output_type": "stream",
          "name": "stdout",
          "text": [
            "['False', 'None', 'True', 'and', 'as', 'assert', 'async', 'await', 'break', 'class', 'continue', 'def', 'del', 'elif', 'else', 'except', 'finally', 'for', 'from', 'global', 'if', 'import', 'in', 'is', 'lambda', 'nonlocal', 'not', 'or', 'pass', 'raise', 'return', 'try', 'while', 'with', 'yield']\n"
          ]
        }
      ]
    },
    {
      "cell_type": "markdown",
      "source": [
        "4.Write a program that checks if a given word is Python Keyword."
      ],
      "metadata": {
        "id": "uwZePdAG_Xw6"
      }
    },
    {
      "cell_type": "code",
      "source": [
        "import keyword\n",
        "word = input(\"Enter a word: \")\n",
        "if keyword.iskeyword(word):\n",
        "  print(f\"{word} is a Python keyword.\")\n",
        "else:\n",
        "  print(f\"{word} is not a Python keyword.\")"
      ],
      "metadata": {
        "colab": {
          "base_uri": "https://localhost:8080/"
        },
        "id": "qYRK5OYt_ooX",
        "outputId": "b5319612-7183-41dc-a39d-78272e5e2db7"
      },
      "execution_count": null,
      "outputs": [
        {
          "output_type": "stream",
          "name": "stdout",
          "text": [
            "Enter a word: print\n",
            "print is not a Python keyword.\n"
          ]
        }
      ]
    },
    {
      "cell_type": "markdown",
      "source": [
        "5.Create a list and tuple in python, and demonstrate how attempting an element works differently for each."
      ],
      "metadata": {
        "id": "jSwZvL3PAOJE"
      }
    },
    {
      "cell_type": "code",
      "source": [
        "my_list = [1, 2, 3, 4, 5]# List (mutable)\n",
        "my_tuple = (1, 2, 3, 4, 5)# Tuple (immutable)\n",
        "\n",
        "# List (mutable)\n",
        "my_list = [1, 2, 3, 4, 5]\n",
        "my_list[0] = 10 # can change elements\n",
        "print(\"Updated List\", my_list)\n",
        "\n",
        "# Tuple (immutable)\n",
        "my_tuple = (1, 2, 3, 4, 5)\n",
        "my_tuple[0] = 10 # attempting to change an element will raise an error\n",
        "print(\"Error\", e)"
      ],
      "metadata": {
        "colab": {
          "base_uri": "https://localhost:8080/",
          "height": 211
        },
        "id": "tJXF18L-CM90",
        "outputId": "1207988c-e2ee-452b-f052-f6ab0fe76738"
      },
      "execution_count": null,
      "outputs": [
        {
          "output_type": "stream",
          "name": "stdout",
          "text": [
            "Updated List [10, 2, 3, 4, 5]\n"
          ]
        },
        {
          "output_type": "error",
          "ename": "TypeError",
          "evalue": "'tuple' object does not support item assignment",
          "traceback": [
            "\u001b[0;31m---------------------------------------------------------------------------\u001b[0m",
            "\u001b[0;31mTypeError\u001b[0m                                 Traceback (most recent call last)",
            "\u001b[0;32m/tmp/ipython-input-37-2027222033.py\u001b[0m in \u001b[0;36m<cell line: 0>\u001b[0;34m()\u001b[0m\n\u001b[1;32m      9\u001b[0m \u001b[0;31m# Tuple (immutable)\u001b[0m\u001b[0;34m\u001b[0m\u001b[0;34m\u001b[0m\u001b[0m\n\u001b[1;32m     10\u001b[0m \u001b[0mmy_tuple\u001b[0m \u001b[0;34m=\u001b[0m \u001b[0;34m(\u001b[0m\u001b[0;36m1\u001b[0m\u001b[0;34m,\u001b[0m \u001b[0;36m2\u001b[0m\u001b[0;34m,\u001b[0m \u001b[0;36m3\u001b[0m\u001b[0;34m,\u001b[0m \u001b[0;36m4\u001b[0m\u001b[0;34m,\u001b[0m \u001b[0;36m5\u001b[0m\u001b[0;34m)\u001b[0m\u001b[0;34m\u001b[0m\u001b[0;34m\u001b[0m\u001b[0m\n\u001b[0;32m---> 11\u001b[0;31m \u001b[0mmy_tuple\u001b[0m\u001b[0;34m[\u001b[0m\u001b[0;36m0\u001b[0m\u001b[0;34m]\u001b[0m \u001b[0;34m=\u001b[0m \u001b[0;36m10\u001b[0m \u001b[0;31m# attempting to change an element will raise an error\u001b[0m\u001b[0;34m\u001b[0m\u001b[0;34m\u001b[0m\u001b[0m\n\u001b[0m\u001b[1;32m     12\u001b[0m \u001b[0mprint\u001b[0m\u001b[0;34m(\u001b[0m\u001b[0;34m\"Error\"\u001b[0m\u001b[0;34m,\u001b[0m \u001b[0me\u001b[0m\u001b[0;34m)\u001b[0m\u001b[0;34m\u001b[0m\u001b[0;34m\u001b[0m\u001b[0m\n",
            "\u001b[0;31mTypeError\u001b[0m: 'tuple' object does not support item assignment"
          ]
        }
      ]
    },
    {
      "cell_type": "markdown",
      "source": [
        "6.Write a function to demonstrate the behavior of mutable and immutable arguments."
      ],
      "metadata": {
        "id": "utTLNtJdMzSb"
      }
    },
    {
      "cell_type": "code",
      "source": [
        "# Function to modify a mutable object (list)\n",
        "def modify_list(lst):\n",
        "    lst.append(4)  # This will modify the original list\n",
        "# Mutable (list)\n",
        "my_list = [1, 2, 3]\n",
        "modify_list(my_list)\n",
        "print(\"Modified list:\", my_list) # Output: [1, 2, 3, 4]\n",
        "\n",
        "\n",
        "# Function to modify an immutable object (string)\n",
        "def modify_string(s):\n",
        "    s += \" world\"  # This creates a new string, original remains unchanged\n",
        "# Immutable (string)\n",
        "my_string = \"Hello\"\n",
        "modify_string(my_string)\n",
        "print(\"String after function call:\", my_string)  # Output: \"Hello\""
      ],
      "metadata": {
        "colab": {
          "base_uri": "https://localhost:8080/"
        },
        "id": "_fEG94Q_NEAm",
        "outputId": "797b09b5-1a1f-4e89-c95b-a1f58a2f110f"
      },
      "execution_count": null,
      "outputs": [
        {
          "output_type": "stream",
          "name": "stdout",
          "text": [
            "Modified list: [1, 2, 3, 4]\n",
            "String after function call: Hello\n"
          ]
        }
      ]
    },
    {
      "cell_type": "markdown",
      "source": [
        "7.Write aprogram that performs basic arithmetic operations on two user-input numbers."
      ],
      "metadata": {
        "id": "62Qj_3wiPUmv"
      }
    },
    {
      "cell_type": "code",
      "source": [
        "num1 = int(input(\"Enter first number: \"))\n",
        "num2 = int(input(\"Enter second number: \"))\n",
        "print(\"Addition:\", num1 + num2)\n",
        "print(\"Subtraction:\", num1 - num2)\n",
        "print(\"Multiplication:\", num1 * num2)\n",
        "print(\"Division:\", num1 / num2 if num2 != 0 else \"Cannot divide by zero\")"
      ],
      "metadata": {
        "colab": {
          "base_uri": "https://localhost:8080/"
        },
        "id": "PZsZcouFsBmw",
        "outputId": "44295b50-a343-4ffe-d2f8-416c05a782b0"
      },
      "execution_count": 2,
      "outputs": [
        {
          "output_type": "stream",
          "name": "stdout",
          "text": [
            "Enter first number: 0\n",
            "Enter second number: 1\n",
            "Addition: 1\n",
            "Subtraction: -1\n",
            "Multiplication: 0\n",
            "Division: 0.0\n"
          ]
        }
      ]
    },
    {
      "cell_type": "markdown",
      "source": [
        "8.Write a program to demonstarte the use of logical operators."
      ],
      "metadata": {
        "id": "BMIz9hYJt2JW"
      }
    },
    {
      "cell_type": "code",
      "source": [
        "# Example with comparison operators and logical operators (AND, OR, Not)\n",
        "x = 10\n",
        "y = 20\n",
        "\n",
        "# AND operator (both conditions must be true)\n",
        "if x > 5 and y < 30:\n",
        "    print(\"Returns True if both conditions are True\")\n",
        "\n",
        "# OR operator (at least one condition must be true)\n",
        "if x < 5 or y > 15:\n",
        "    print(\"Returns True if at least one condition is True\")\n",
        "\n",
        "# NOT operator (reverses the condition - Returns the opposite of the condition)\n",
        "if not(x > 15):\n",
        "    print(\"x is not greater than 15\")"
      ],
      "metadata": {
        "colab": {
          "base_uri": "https://localhost:8080/"
        },
        "id": "jhJEh6K4t-mz",
        "outputId": "fb1ab0a9-035c-4507-fc17-02927a8c1242"
      },
      "execution_count": 3,
      "outputs": [
        {
          "output_type": "stream",
          "name": "stdout",
          "text": [
            "Returns True if both conditions are True\n",
            "Returns True if at least one condition is True\n",
            "x is not greater than 15\n"
          ]
        }
      ]
    },
    {
      "cell_type": "markdown",
      "source": [
        "9.Write a python program to convert the user input from string to integer, float and boolean types."
      ],
      "metadata": {
        "id": "tMMFlZfouHLS"
      }
    },
    {
      "cell_type": "code",
      "source": [
        "# Get input from the user (input is always a string)\n",
        "user_input = input(\"Enter a value: \")\n",
        "\n",
        "# Convert to integer\n",
        "int_value = int(user_input)  # Convert input to integer\n",
        "print(\"Integer:\", int_value)\n",
        "\n",
        "# Convert to float\n",
        "float_value = float(user_input)  # Convert input to float\n",
        "print(\"Float:\", float_value)\n",
        "\n",
        "# Convert to boolean (empty string is False, non-empty string is True)\n",
        "bool_value = bool(user_input)  # Convert input to boolean\n",
        "print(\"Boolean:\", bool_value)"
      ],
      "metadata": {
        "colab": {
          "base_uri": "https://localhost:8080/"
        },
        "id": "Mcald0Q4us0J",
        "outputId": "5b7da004-8b3b-4300-888d-000f0927f2da"
      },
      "execution_count": 4,
      "outputs": [
        {
          "output_type": "stream",
          "name": "stdout",
          "text": [
            "Enter a value: 0\n",
            "Integer: 0\n",
            "Float: 0.0\n",
            "Boolean: True\n"
          ]
        }
      ]
    },
    {
      "cell_type": "markdown",
      "source": [
        "10.Write code to demonstrate type casting with elements.\n",
        "\n"
      ],
      "metadata": {
        "id": "J2u26x2Gu02B"
      }
    },
    {
      "cell_type": "code",
      "source": [
        "str_list = [\"10\", \"20\", \"30\"]\n",
        "int_list = list(map(int, str_list))\n",
        "print(\"List of integers:\", int_list)"
      ],
      "metadata": {
        "colab": {
          "base_uri": "https://localhost:8080/"
        },
        "id": "-_5zCXfqvMsD",
        "outputId": "f2803ecc-3791-4687-adc7-939ff13fcf64"
      },
      "execution_count": 5,
      "outputs": [
        {
          "output_type": "stream",
          "name": "stdout",
          "text": [
            "List of integers: [10, 20, 30]\n"
          ]
        }
      ]
    },
    {
      "cell_type": "markdown",
      "source": [
        "11.write a program that checks if a number is positive, negative or zero."
      ],
      "metadata": {
        "id": "T2bgSymFvRP4"
      }
    },
    {
      "cell_type": "code",
      "source": [
        "number = float(input(\"Enter a number: \"))\n",
        "\n",
        "if number > 0:\n",
        "    print(\"The number is positive.\")\n",
        "elif number < 0:\n",
        "    print(\"The number is negative.\")\n",
        "else:\n",
        "    print(\"The number is zero.\")\n"
      ],
      "metadata": {
        "colab": {
          "base_uri": "https://localhost:8080/"
        },
        "id": "QK0r2tSXvgrl",
        "outputId": "f1da16c4-ed7f-4693-f44b-b1fc8d437082"
      },
      "execution_count": 7,
      "outputs": [
        {
          "output_type": "stream",
          "name": "stdout",
          "text": [
            "Enter a number: 2\n",
            "The number is positive.\n"
          ]
        }
      ]
    },
    {
      "cell_type": "markdown",
      "source": [
        "12.Write a for loops to print numbers from 1 to 10."
      ],
      "metadata": {
        "id": "Yz015UOUyfUg"
      }
    },
    {
      "cell_type": "code",
      "source": [
        "for i in range(1, 11):\n",
        "    print(i)"
      ],
      "metadata": {
        "colab": {
          "base_uri": "https://localhost:8080/"
        },
        "id": "aHTpYnWMynw5",
        "outputId": "9d4c0f70-dcf2-4193-8696-78a972b29027"
      },
      "execution_count": 12,
      "outputs": [
        {
          "output_type": "stream",
          "name": "stdout",
          "text": [
            "1\n",
            "2\n",
            "3\n",
            "4\n",
            "5\n",
            "6\n",
            "7\n",
            "8\n",
            "9\n",
            "10\n"
          ]
        }
      ]
    },
    {
      "cell_type": "markdown",
      "source": [
        "13.Write a python program to find the sum of all the even numbers between 1 and 50."
      ],
      "metadata": {
        "id": "CAtWPdLhz-nB"
      }
    },
    {
      "cell_type": "code",
      "source": [
        "# Initialize sum variable\n",
        "even_sum = 0\n",
        "\n",
        "# Loop through numbers from 1 to 50\n",
        "for num in range(1, 51):\n",
        "    if num % 2 == 0:\n",
        "        even_sum += num\n",
        "\n",
        "# Print the sum of even numbers\n",
        "print(\"Sum of all even numbers between 1 and 50:\", even_sum)"
      ],
      "metadata": {
        "colab": {
          "base_uri": "https://localhost:8080/"
        },
        "id": "tK2dfgfY0RYW",
        "outputId": "762e71a6-ff0d-49ce-cb24-50a998c8da1e"
      },
      "execution_count": 13,
      "outputs": [
        {
          "output_type": "stream",
          "name": "stdout",
          "text": [
            "Sum of all even numbers between 1 and 50: 650\n"
          ]
        }
      ]
    },
    {
      "cell_type": "markdown",
      "source": [
        "16.Write a program to reverse string using while loop."
      ],
      "metadata": {
        "id": "DV2-pKV10VcM"
      }
    },
    {
      "cell_type": "code",
      "source": [
        "string = input(\"Enter a string: \")\n",
        "reversed_string = \"\"\n",
        "i = len(string) - 1\n",
        "\n",
        "while i >= 0:\n",
        "    reversed_string += string[i]\n",
        "    i -= 1\n",
        "\n",
        "print(\"Reversed string:\", reversed_string)"
      ],
      "metadata": {
        "colab": {
          "base_uri": "https://localhost:8080/"
        },
        "id": "QpSA-BRL0hXP",
        "outputId": "d140799a-eb12-4210-ef25-8a906a4c9e48"
      },
      "execution_count": 14,
      "outputs": [
        {
          "output_type": "stream",
          "name": "stdout",
          "text": [
            "Enter a string: Debajyoti\n",
            "Reversed string: itoyjabeD\n"
          ]
        }
      ]
    },
    {
      "cell_type": "markdown",
      "source": [
        "15.Write a python program to calculate the factorial of a number provided by the user using while loop."
      ],
      "metadata": {
        "id": "pHgUxbhD0m01"
      }
    },
    {
      "cell_type": "code",
      "source": [
        "# Get input from the user\n",
        "num = int(input(\"Enter a number to calculate its factorial: \"))\n",
        "\n",
        "# Initialize variables\n",
        "factorial = 1\n",
        "i = 1\n",
        "\n",
        "# Calculate factorial using a while loop\n",
        "while i <= num:\n",
        "    factorial *= i\n",
        "    i += 1\n",
        "\n",
        "print(f\"The factorial of {num} is: {factorial}\")"
      ],
      "metadata": {
        "colab": {
          "base_uri": "https://localhost:8080/"
        },
        "id": "rZBge1XU03Ww",
        "outputId": "df2efb2d-cd42-446b-cc72-ad1fdae7d1ee"
      },
      "execution_count": 15,
      "outputs": [
        {
          "output_type": "stream",
          "name": "stdout",
          "text": [
            "Enter a number to calculate its factorial: 7\n",
            "The factorial of 7 is: 5040\n"
          ]
        }
      ]
    }
  ]
}