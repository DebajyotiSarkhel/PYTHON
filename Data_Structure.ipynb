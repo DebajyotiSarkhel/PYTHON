{
  "nbformat": 4,
  "nbformat_minor": 0,
  "metadata": {
    "colab": {
      "provenance": [],
      "authorship_tag": "ABX9TyNaIXdaL4hcpcO/GWxijtlU",
      "include_colab_link": true
    },
    "kernelspec": {
      "name": "python3",
      "display_name": "Python 3"
    },
    "language_info": {
      "name": "python"
    }
  },
  "cells": [
    {
      "cell_type": "markdown",
      "metadata": {
        "id": "view-in-github",
        "colab_type": "text"
      },
      "source": [
        "<a href=\"https://colab.research.google.com/github/DebajyotiSarkhel/PYTHON/blob/main/Data_Structure.ipynb\" target=\"_parent\"><img src=\"https://colab.research.google.com/assets/colab-badge.svg\" alt=\"Open In Colab\"/></a>"
      ]
    },
    {
      "cell_type": "markdown",
      "source": [
        "1.What are data structures, and why are they important.\n",
        "Ans. Data structures are ways of organizing and storing data so it can be efficiently accessed and modified. They are essential because they enable faster data manipulation and optimize algorithms, improving the overall performance of applications.\n",
        "\n",
        "2.Explain the difference between mutable and immutable data types with examples.\n",
        "Ans.>>Mutable Data Types:\n",
        ">Can be changed after creation.\n",
        ">Objects can share the same memory reference if modified.\n",
        ">Modifying the object changes the original object.\n",
        ">Example: lists and dictionaries\n",
        ">>Immutable Data Types:\n",
        ">Immutable data types cannot be modified.\n",
        ">A new object is created in memory when modified.\n",
        ">Modifying the object creates a new object.\n",
        ">Example: strings and tuples\n",
        "\n",
        "3.What are the main differences between lists and tuples in Python.\n",
        "Ans:>>List:    \n",
        ">List are Mutable : Mutable, more flexible, and slower.\n",
        ">You can modify, add, or remove elements after the list is created\n",
        ">Syntax: Lists are created using square brackets: []\n",
        ">Lists require more memory due to their ability to change.\n",
        ">Lists have many built-in methods for modifying the list\n",
        ">Example:  append(), remove(), extend(), pop()\n",
        ">>Tuples:\n",
        ">Immutable, faster, and more memory efficient.\n",
        ">Tuples are immutable\n",
        ">once a tuple is created, you cannot modify, add, or remove elements.\n",
        ">Syntax:Tuples are created using parentheses: ()\n",
        ">Tuples are generally faster than lists for iteration and accessing element, because of their immutability.\n",
        ">Tuples have fewer methods since they are immutable\n",
        ">Example: count(), index()\n",
        "\n",
        "4.Describe how dictionaries store data.\n",
        "Ans:Dictionaries in Python store data in key-value pairs using a hash-based structure. Each key is unique and is mapped to a specific value. The dictionary uses a hash function to compute a hash value for each key, determining where the key-value pair is stored in memory. This allows for fast lookups, insertions, and deletion\n",
        "\n",
        "5.Why might you use a set instead of a list in Python.\n",
        "Ans:Sets are useful when you need to store unique elements and perform fast membership checks. Unlike lists, sets automatically eliminate duplicates, ensuring that only one instance of each element is stored. This makes sets ideal for operations that involve finding unique items or performing mathematical set operations like union, intersection, and difference.\n",
        "\n",
        "6.What is a string in Python, and how is it different from a list.\n",
        "Ans:A string is an immutable sequence of characters, whereas a list is a mutable sequence of any data type. While both support indexing and slicing, strings cannot be changed after creation, but lists can be modified.\n",
        "\n",
        "7.How do tuples ensure data integrity in Python.\n",
        "Ans:Tuples ensure data integrity because they are immutable. Once a tuple is created, its elements cannot be modified, which helps preserve the data without accidental changes.\n",
        "\n",
        "8.What is a hash table, and how does it relate to dictionaries in Python.\n",
        "Ans:A hash table is a data structure that stores data in an array format, using a hash function to compute an index where the data is stored. In Python, dictionaries use a hash table internally to map keys to values, allowing for fast data retrieval.\n",
        "\n",
        "9.Can lists contain different data types in Python.\n",
        "Ans:Yes, lists in Python can contain elements of different data types. For example, a list can store integers, strings, floats, or even other lists.\n",
        "\n",
        "10.Explain why strings are immutable in Python.\n",
        "Ans:Strings are immutable in Python because they are designed to be memory efficient and safe from accidental changes. By making strings immutable, Python ensures that any string value cannot be altered, which avoids unexpected behavior when multiple references point to the same string object.\n",
        "\n",
        "11.What advantages do dictionaries offer over lists for certain tasks?\n",
        "Ans:Dictionaries allow fast key-based access and better organization for large datasets compared to index-based lists.\n",
        "\n",
        "12.Describe a scenario where using a tuple would be preferable over a list.\n",
        "Ans:Tuples are preferable when you need an immutable collection of elements, like storing coordinates (x, y) or when the data should remain constant throughout the program. Since tuples are faster and more memory-efficient than lists, they are a better choice for fixed collections.\n",
        "\n",
        "13.How do sets handle duplicate values in Python.\n",
        "Ans:Sets automatically eliminate duplicate values. If you try to add a duplicate element, it will simply be ignored, ensuring that only unique elements are stored in a set.\n",
        "\n",
        "14.How does the “in” keyword work differently for lists and dictionaries.\n",
        "Ans:For lists, the in keyword checks if an element exists in the list by iterating through the list. It checks for membership one by one.\n",
        "For dictionaries, the in keyword checks if a key exists in the dictionary, which is much faster due to the hash table structure.\n",
        "\n",
        "15.Can you modify the elements of a tuple? Explain why or why not.\n",
        "Ans:No, you cannot modify the elements of a tuple because tuples are immutable. Once a tuple is created, its data cannot be changed, which ensures data integrity.\n",
        "\n",
        "16.What is a nested dictionary, and give an example of its use case.\n",
        "Ans:A nested dictionary is a dictionary that contains other dictionaries as values. This is useful when you need to represent complex hierarchical data, like storing information about multiple employees in a company.\n"
      ],
      "metadata": {
        "id": "_19b4sy8SNUE"
      }
    },
    {
      "cell_type": "code",
      "source": [
        "{\n",
        "    'Dish1': {'name': 'Pasta masala', 'price': 160.99},\n",
        "    'Dish2': {'name': 'Chicken 65', 'price': 144.50},\n",
        "    'Dish3': {'name': 'Margherita Pizza', 'price': 156.00}\n",
        "}"
      ],
      "metadata": {
        "colab": {
          "base_uri": "https://localhost:8080/"
        },
        "id": "Z7SDhbuEWa_T",
        "outputId": "98f3296f-1e7a-4637-8a85-867dfffaafe8"
      },
      "execution_count": null,
      "outputs": [
        {
          "output_type": "execute_result",
          "data": {
            "text/plain": [
              "{'Dish1': {'name': 'Pasta masala', 'price': 160.99},\n",
              " 'Dish2': {'name': 'Chicken 65', 'price': 144.5},\n",
              " 'Dish3': {'name': 'Margherita Pizza', 'price': 156.0}}"
            ]
          },
          "metadata": {},
          "execution_count": 7
        }
      ]
    },
    {
      "cell_type": "markdown",
      "source": [
        "17.Describe the time complexity of accessing elements in a dictionary.\n",
        "\n",
        "Ans:The time complexity of accessing elements in a dictionary is O(1) on average. This is because dictionaries use a hash table, which allows for fast lookups based on the key.\n",
        "\n",
        "18.In what situations are lists preferred over dictionaries.\n",
        "Ans:Lists are preferred over dictionaries when:\n",
        ">You need to maintain the order of elements.\n",
        ">You need to store a sequence of elements without associating them with unique keys.\n",
        ">When you don’t need fast lookups and are dealing with a small collection of data.\n",
        "\n",
        "19.Why are dictionaries considered unordered, and how does that affect data retrieval.\n",
        "Ans:Dictionaries in Python are considered unordered because they do not maintain a specific sequence for their keys and values. However, this does not affect data retrieval as long as retrieval is done by key, as dictionaries provide direct access to values through hashing\n",
        "\n",
        "20Explain the difference between a list and a dictionary in terms of data retrieval.\n",
        "Ans:In a list, data is retrieved by index (position in the list).\n",
        "In a dictionary, data is retrieved by key (unique identifier), making\n",
        "it faster for lookups as keys are hashed.\n",
        "\n"
      ],
      "metadata": {
        "id": "KalfMiGYWghU"
      }
    },
    {
      "cell_type": "markdown",
      "source": [
        "1.Write a code to create a string with your name and print it."
      ],
      "metadata": {
        "id": "IQtzeMKYGyn3"
      }
    },
    {
      "cell_type": "code",
      "source": [
        "name = \"debajyoti sarkhel\"\n",
        "print(name)"
      ],
      "metadata": {
        "colab": {
          "base_uri": "https://localhost:8080/"
        },
        "id": "CHZvvlAMHvUc",
        "outputId": "c434c70a-8c61-4514-e75d-32287cbaa034"
      },
      "execution_count": 1,
      "outputs": [
        {
          "output_type": "stream",
          "name": "stdout",
          "text": [
            "debajyoti sarkhel\n"
          ]
        }
      ]
    },
    {
      "cell_type": "markdown",
      "source": [
        "2.Write a code to find the length of the string \"Hello World\""
      ],
      "metadata": {
        "id": "kO5p0ITQH5sN"
      }
    },
    {
      "cell_type": "code",
      "source": [
        "string = \"Hello World\"\n",
        "length = len(string)\n",
        "print(length)"
      ],
      "metadata": {
        "colab": {
          "base_uri": "https://localhost:8080/"
        },
        "id": "wkdhcweLIEcu",
        "outputId": "e0c8acda-675f-4304-e0fb-db5b5d6fefc5"
      },
      "execution_count": 2,
      "outputs": [
        {
          "output_type": "stream",
          "name": "stdout",
          "text": [
            "11\n"
          ]
        }
      ]
    },
    {
      "cell_type": "markdown",
      "source": [
        "3.Write a code to slice the first 3 characters from the string \"Python Programming\""
      ],
      "metadata": {
        "id": "1-aIIcFhIeoR"
      }
    },
    {
      "cell_type": "code",
      "source": [
        "string = \"Python Programming\"\n",
        "sliced_string = string[:3]\n",
        "print(sliced_string)\n"
      ],
      "metadata": {
        "colab": {
          "base_uri": "https://localhost:8080/"
        },
        "id": "uObhPpi0Igme",
        "outputId": "b5e15a82-9a46-475b-8b9e-18da8fbb7f90"
      },
      "execution_count": 3,
      "outputs": [
        {
          "output_type": "stream",
          "name": "stdout",
          "text": [
            "Pyt\n"
          ]
        }
      ]
    },
    {
      "cell_type": "markdown",
      "source": [
        "4.Write a code to convert the string \"hello\" to uppercase"
      ],
      "metadata": {
        "id": "X9RAWTWyIm_w"
      }
    },
    {
      "cell_type": "code",
      "source": [
        "string = \"hello\"\n",
        "uppercase_string = string.upper()\n",
        "print(uppercase_string)\n"
      ],
      "metadata": {
        "colab": {
          "base_uri": "https://localhost:8080/"
        },
        "id": "qqZ5ZSoFI3Rl",
        "outputId": "633fa3bd-cf90-4c4e-9eb7-bca852a099f8"
      },
      "execution_count": 4,
      "outputs": [
        {
          "output_type": "stream",
          "name": "stdout",
          "text": [
            "HELLO\n"
          ]
        }
      ]
    },
    {
      "cell_type": "markdown",
      "source": [
        "6.Write a code to create a list with numbers 1 to 5 and print it"
      ],
      "metadata": {
        "id": "wAQDaovCJBIW"
      }
    },
    {
      "cell_type": "code",
      "source": [
        "numbers = [1, 2, 3, 4, 5]\n",
        "print(numbers)\n"
      ],
      "metadata": {
        "colab": {
          "base_uri": "https://localhost:8080/"
        },
        "id": "agse5yh1JFtN",
        "outputId": "829bc331-a412-4272-9e70-7d7588d0af90"
      },
      "execution_count": 5,
      "outputs": [
        {
          "output_type": "stream",
          "name": "stdout",
          "text": [
            "[1, 2, 3, 4, 5]\n"
          ]
        }
      ]
    },
    {
      "cell_type": "markdown",
      "source": [
        "7.Write a code to append the number 10 to the list [1, 2, 3, 4]"
      ],
      "metadata": {
        "id": "l7GKI8y6JYTK"
      }
    },
    {
      "cell_type": "code",
      "source": [
        "numbers = [1, 2, 3, 4]\n",
        "numbers.append(10)\n",
        "print(numbers)"
      ],
      "metadata": {
        "colab": {
          "base_uri": "https://localhost:8080/"
        },
        "id": "AKv_AVikJeK2",
        "outputId": "b7c7ecf4-90cf-4ddb-ce0c-c872531d230a"
      },
      "execution_count": 6,
      "outputs": [
        {
          "output_type": "stream",
          "name": "stdout",
          "text": [
            "[1, 2, 3, 4, 10]\n"
          ]
        }
      ]
    },
    {
      "cell_type": "markdown",
      "source": [
        "8.Write a code to remove the number 3 from the list [1, 2, 3, 4, 5]"
      ],
      "metadata": {
        "id": "3wSxc6sjJmPu"
      }
    },
    {
      "cell_type": "code",
      "source": [
        "numbers = [1, 2, 3, 4, 5]\n",
        "numbers.remove(3)\n",
        "print(numbers)"
      ],
      "metadata": {
        "colab": {
          "base_uri": "https://localhost:8080/"
        },
        "id": "FowN81fUJoHI",
        "outputId": "182bd1ff-8f7f-442e-e0de-25649427c52f"
      },
      "execution_count": 7,
      "outputs": [
        {
          "output_type": "stream",
          "name": "stdout",
          "text": [
            "[1, 2, 4, 5]\n"
          ]
        }
      ]
    },
    {
      "cell_type": "markdown",
      "source": [
        "9.Write a code to access the second element in the list ['a', 'b', 'c', 'd']"
      ],
      "metadata": {
        "id": "ZPH71iFRJwCb"
      }
    },
    {
      "cell_type": "code",
      "source": [
        "letters = ['a', 'b', 'c', 'd']\n",
        "second_element = letters[1]\n",
        "print(second_element)"
      ],
      "metadata": {
        "colab": {
          "base_uri": "https://localhost:8080/"
        },
        "id": "FWxvJ9R-Jxp2",
        "outputId": "35d9c146-704b-4d8a-e5d8-7ecbac82b250"
      },
      "execution_count": 8,
      "outputs": [
        {
          "output_type": "stream",
          "name": "stdout",
          "text": [
            "b\n"
          ]
        }
      ]
    },
    {
      "cell_type": "markdown",
      "source": [
        "10.Write a code to reverse the list [10, 20, 30, 40, 50]."
      ],
      "metadata": {
        "id": "Hxz1h_gcKA13"
      }
    },
    {
      "cell_type": "code",
      "source": [
        "numbers = [10, 20, 30, 40, 50]\n",
        "numbers.reverse()\n",
        "print(numbers)"
      ],
      "metadata": {
        "colab": {
          "base_uri": "https://localhost:8080/"
        },
        "id": "agPS9LTqKH2H",
        "outputId": "24189184-6ea5-4d11-db8e-146221afcd84"
      },
      "execution_count": 9,
      "outputs": [
        {
          "output_type": "stream",
          "name": "stdout",
          "text": [
            "[50, 40, 30, 20, 10]\n"
          ]
        }
      ]
    },
    {
      "cell_type": "markdown",
      "source": [
        "11.Write a code to create a tuple with the elements 100, 200, 300 and print it.\n"
      ],
      "metadata": {
        "id": "tyydhjWkKM8l"
      }
    },
    {
      "cell_type": "code",
      "source": [
        "my_tuple = (100, 200, 300)\n",
        "print(my_tuple)"
      ],
      "metadata": {
        "colab": {
          "base_uri": "https://localhost:8080/"
        },
        "id": "AEmTpYGCKUd7",
        "outputId": "8b150759-017e-465e-ca27-df5c6d1b9d9e"
      },
      "execution_count": 10,
      "outputs": [
        {
          "output_type": "stream",
          "name": "stdout",
          "text": [
            "(100, 200, 300)\n"
          ]
        }
      ]
    },
    {
      "cell_type": "markdown",
      "source": [
        "12.Write a code to access the second-to-last element of the tuple ('red', 'green', 'blue', 'yellow')."
      ],
      "metadata": {
        "id": "nN5uphksKZaM"
      }
    },
    {
      "cell_type": "code",
      "source": [
        "my_tuple = ('red', 'green', 'blue', 'yellow')\n",
        "print(my_tuple[-2])  # Output: 'blue'"
      ],
      "metadata": {
        "colab": {
          "base_uri": "https://localhost:8080/"
        },
        "id": "k7T23YNWKd-6",
        "outputId": "a86062a3-a037-4eae-acf1-7c54617dcf66"
      },
      "execution_count": 11,
      "outputs": [
        {
          "output_type": "stream",
          "name": "stdout",
          "text": [
            "blue\n"
          ]
        }
      ]
    },
    {
      "cell_type": "markdown",
      "source": [
        "13.Write a code to find the minimum number in the tuple (10, 20, 5, 15)."
      ],
      "metadata": {
        "id": "cENRmGaqNFYJ"
      }
    },
    {
      "cell_type": "code",
      "source": [
        "my_tuple = (10, 20, 5, 15)\n",
        "print(min(my_tuple))  # Output: 5\n"
      ],
      "metadata": {
        "colab": {
          "base_uri": "https://localhost:8080/"
        },
        "id": "BR8hJyqwNHMm",
        "outputId": "513831fe-a1e2-4b84-f101-3a0d56dfddde"
      },
      "execution_count": 12,
      "outputs": [
        {
          "output_type": "stream",
          "name": "stdout",
          "text": [
            "5\n"
          ]
        }
      ]
    },
    {
      "cell_type": "markdown",
      "source": [
        "14.Write a code to find the index of the element \"cat\" in the tuple ('dog', 'cat', 'rabbit')"
      ],
      "metadata": {
        "id": "tXf8NUMCNUED"
      }
    },
    {
      "cell_type": "code",
      "source": [
        "my_tuple = ('dog', 'cat', 'rabbit')\n",
        "print(my_tuple.index('cat'))"
      ],
      "metadata": {
        "colab": {
          "base_uri": "https://localhost:8080/"
        },
        "id": "vl1Gwz42Nffu",
        "outputId": "55d80101-d56f-41c0-878b-12725849e11c"
      },
      "execution_count": 14,
      "outputs": [
        {
          "output_type": "stream",
          "name": "stdout",
          "text": [
            "1\n"
          ]
        }
      ]
    },
    {
      "cell_type": "markdown",
      "source": [
        "15.Write a code to create a tuple containing three different fruits and check if \"kiwi\" is in it."
      ],
      "metadata": {
        "id": "HYjRXMS9Nm0a"
      }
    },
    {
      "cell_type": "code",
      "source": [
        "my_tuple = ('apple', 'banana', 'cherry')\n",
        "print('kiwi' in my_tuple)  # Output: False"
      ],
      "metadata": {
        "colab": {
          "base_uri": "https://localhost:8080/"
        },
        "id": "bB3Q1h7SNrfx",
        "outputId": "df53e6dd-432f-4cf0-e4c8-f381bbbaaff2"
      },
      "execution_count": 15,
      "outputs": [
        {
          "output_type": "stream",
          "name": "stdout",
          "text": [
            "False\n"
          ]
        }
      ]
    },
    {
      "cell_type": "markdown",
      "source": [
        "16.Write a code to create a set with the elements 'a', 'b', 'c' and print it."
      ],
      "metadata": {
        "id": "CLlyhM7FNvNf"
      }
    },
    {
      "cell_type": "code",
      "source": [
        "my_set = {'a', 'b', 'c'}\n",
        "print(my_set)\n"
      ],
      "metadata": {
        "colab": {
          "base_uri": "https://localhost:8080/"
        },
        "id": "6cRllfaRNyzj",
        "outputId": "f4b60738-7e96-4790-d457-b0dcb348fef6"
      },
      "execution_count": 16,
      "outputs": [
        {
          "output_type": "stream",
          "name": "stdout",
          "text": [
            "{'c', 'a', 'b'}\n"
          ]
        }
      ]
    },
    {
      "cell_type": "markdown",
      "source": [
        "17.Write a code to clear all elements from the set {1, 2, 3, 4, 5}."
      ],
      "metadata": {
        "id": "umrjMsoKN14q"
      }
    },
    {
      "cell_type": "code",
      "source": [
        "my_set = {1, 2, 3, 4, 5}\n",
        "my_set.clear()\n",
        "print(my_set)"
      ],
      "metadata": {
        "colab": {
          "base_uri": "https://localhost:8080/"
        },
        "id": "2-k5Od38N_Gw",
        "outputId": "09900c3d-bd6f-487e-eaf9-a056f98995cd"
      },
      "execution_count": 18,
      "outputs": [
        {
          "output_type": "stream",
          "name": "stdout",
          "text": [
            "set()\n"
          ]
        }
      ]
    },
    {
      "cell_type": "markdown",
      "source": [
        "18.Write a code to remove the element 4 from the set {1, 2, 3, 4}.\n"
      ],
      "metadata": {
        "id": "tj99VK6NOKL6"
      }
    },
    {
      "cell_type": "code",
      "source": [
        "my_set = {1, 2, 3, 4}\n",
        "my_set.remove(4)\n",
        "print(my_set)"
      ],
      "metadata": {
        "colab": {
          "base_uri": "https://localhost:8080/"
        },
        "id": "acbIsXJSOOUx",
        "outputId": "ce4c1c54-fa55-4945-ce8e-4f35d076c301"
      },
      "execution_count": 20,
      "outputs": [
        {
          "output_type": "stream",
          "name": "stdout",
          "text": [
            "{1, 2, 3}\n"
          ]
        }
      ]
    },
    {
      "cell_type": "markdown",
      "source": [
        "19.Write a code to find the union of two sets {1, 2, 3} and {3, 4, 5}.\n"
      ],
      "metadata": {
        "id": "7ztF7TBTOUrG"
      }
    },
    {
      "cell_type": "code",
      "source": [
        "set1 = {1, 2, 3}\n",
        "set2 = {3, 4, 5}\n",
        "union_set = set1 | set2\n",
        "print(union_set)"
      ],
      "metadata": {
        "colab": {
          "base_uri": "https://localhost:8080/"
        },
        "id": "FghyS3RYOY3P",
        "outputId": "dd581e2c-47f6-4f3f-c650-e734163c374a"
      },
      "execution_count": 21,
      "outputs": [
        {
          "output_type": "stream",
          "name": "stdout",
          "text": [
            "{1, 2, 3, 4, 5}\n"
          ]
        }
      ]
    },
    {
      "cell_type": "markdown",
      "source": [
        "20.Write a code to find the intersection of two sets {1, 2, 3} and {2, 3, 4}."
      ],
      "metadata": {
        "id": "iHwdbxQ6OpcD"
      }
    },
    {
      "cell_type": "code",
      "source": [
        "set1 = {1, 2, 3}\n",
        "set2 = {2, 3, 4}\n",
        "intersection_set = set1 & set2\n",
        "print(intersection_set)"
      ],
      "metadata": {
        "colab": {
          "base_uri": "https://localhost:8080/"
        },
        "id": "TBB9sVALOt92",
        "outputId": "f1ee4e7b-7612-40af-e804-dd6fdcfe01cf"
      },
      "execution_count": 22,
      "outputs": [
        {
          "output_type": "stream",
          "name": "stdout",
          "text": [
            "{2, 3}\n"
          ]
        }
      ]
    },
    {
      "cell_type": "markdown",
      "source": [
        "21.Write a code to create a dictionary with the keys \"name\", \"age\", and \"city\", and print it.\n"
      ],
      "metadata": {
        "id": "W0l0X4AbOzfU"
      }
    },
    {
      "cell_type": "code",
      "source": [
        "my_dict = {\"name\": \"Debajyoti\", \"age\": 29, \"city\": \"Bhubaneswar\"}\n",
        "print(my_dict)"
      ],
      "metadata": {
        "colab": {
          "base_uri": "https://localhost:8080/"
        },
        "id": "FN4jLYyAO4O2",
        "outputId": "a618af05-ecd2-4f4d-912a-a899a575394c"
      },
      "execution_count": 27,
      "outputs": [
        {
          "output_type": "stream",
          "name": "stdout",
          "text": [
            "{'name': 'Debajyoti', 'age': 29, 'city': 'Bhubaneswar'}\n"
          ]
        }
      ]
    },
    {
      "cell_type": "markdown",
      "source": [
        "22.Write a code to add a new key-value pair \"country\": \"India\" to the dictionary {'name': 'John', 'age': 25}.\n"
      ],
      "metadata": {
        "id": "BXkDNinNO8RV"
      }
    },
    {
      "cell_type": "code",
      "source": [
        "my_dict = {'name': 'Debajyoti', 'age': 29}\n",
        "my_dict[\"country\"] = \"India\"\n",
        "print(my_dict)"
      ],
      "metadata": {
        "colab": {
          "base_uri": "https://localhost:8080/"
        },
        "id": "mB9bV5WdPAA3",
        "outputId": "1ada9bb8-2910-442e-e5ca-e617c531d461"
      },
      "execution_count": 28,
      "outputs": [
        {
          "output_type": "stream",
          "name": "stdout",
          "text": [
            "{'name': 'Debajyoti', 'age': 29, 'country': 'India'}\n"
          ]
        }
      ]
    },
    {
      "cell_type": "markdown",
      "source": [
        "23.Write a code to access the value associated with the key \"name\" in the dictionary {'name': 'Alice', 'age': 30}.\n"
      ],
      "metadata": {
        "id": "cIAGblQRPD1F"
      }
    },
    {
      "cell_type": "code",
      "source": [
        "my_dict = {'name': 'Debajyoti', 'age': 29}\n",
        "print(my_dict[\"name\"])"
      ],
      "metadata": {
        "colab": {
          "base_uri": "https://localhost:8080/"
        },
        "id": "lKRuV5nXPIKl",
        "outputId": "11473ad1-b200-4dd8-ee99-b0112e0ac879"
      },
      "execution_count": 26,
      "outputs": [
        {
          "output_type": "stream",
          "name": "stdout",
          "text": [
            "Debajyoti\n"
          ]
        }
      ]
    },
    {
      "cell_type": "markdown",
      "source": [
        "24.Write a code to remove the key \"age\" from the dictionary {'name': 'Debajyoti', 'age': 29, 'city': 'Bhubaneswar'}."
      ],
      "metadata": {
        "id": "iGDhS2hVPkSN"
      }
    },
    {
      "cell_type": "code",
      "source": [
        "my_dict = {'name': 'Debajyoti', 'age': 29, 'city': 'Bhubaneswar'}\n",
        "del my_dict[\"age\"]\n",
        "print(my_dict)"
      ],
      "metadata": {
        "colab": {
          "base_uri": "https://localhost:8080/"
        },
        "id": "DeDb4sV4PtPt",
        "outputId": "d2022b0d-9ddc-43fc-eae4-73d10ecbbb6e"
      },
      "execution_count": 29,
      "outputs": [
        {
          "output_type": "stream",
          "name": "stdout",
          "text": [
            "{'name': 'Debajyoti', 'city': 'Bhubaneswar'}\n"
          ]
        }
      ]
    },
    {
      "cell_type": "markdown",
      "source": [
        "25.Write a code to check if the key \"city\" exists in the dictionary {'name': 'Debajyoti', 'city': 'Bhubaneswar'}."
      ],
      "metadata": {
        "id": "mMBvZmBHQHm8"
      }
    },
    {
      "cell_type": "code",
      "source": [
        "my_dict = {'name': 'Debajyoti', 'city': 'Bhubaneswar'}\n",
        "print(\"city\" in my_dict)"
      ],
      "metadata": {
        "colab": {
          "base_uri": "https://localhost:8080/"
        },
        "id": "O63j0_C4QOId",
        "outputId": "36b9167d-f211-4875-ca37-938d02b88ea5"
      },
      "execution_count": 30,
      "outputs": [
        {
          "output_type": "stream",
          "name": "stdout",
          "text": [
            "True\n"
          ]
        }
      ]
    },
    {
      "cell_type": "markdown",
      "source": [
        "26.Write a code to create a list, a tuple, and a dictionary, and print them all."
      ],
      "metadata": {
        "id": "a6Mt3pTjQZsU"
      }
    },
    {
      "cell_type": "code",
      "source": [
        "my_list = [1, 2, 3]\n",
        "my_tuple = (4, 5, 6)\n",
        "my_dict = {'a': 1, 'b': 2}\n",
        "print(my_list, my_tuple, my_dict)"
      ],
      "metadata": {
        "colab": {
          "base_uri": "https://localhost:8080/"
        },
        "id": "lKjxjE7xQfuW",
        "outputId": "98b790d9-192e-427e-fdbb-f1c8b6f96d62"
      },
      "execution_count": 31,
      "outputs": [
        {
          "output_type": "stream",
          "name": "stdout",
          "text": [
            "[1, 2, 3] (4, 5, 6) {'a': 1, 'b': 2}\n"
          ]
        }
      ]
    },
    {
      "cell_type": "markdown",
      "source": [
        "27.Write a code to create a list of 5 random numbers between 1 and 100, sort it in ascending order, and print the result.(replaced)"
      ],
      "metadata": {
        "id": "BiLdKSRJQjs-"
      }
    },
    {
      "cell_type": "code",
      "source": [
        "import random\n",
        "my_list = [random.randint(1, 100) for _ in range(5)]\n",
        "my_list.sort()\n",
        "print(my_list)"
      ],
      "metadata": {
        "colab": {
          "base_uri": "https://localhost:8080/"
        },
        "id": "lgpBDMYSQn4T",
        "outputId": "ee65a0ae-50e9-46ef-fc62-2486dda75914"
      },
      "execution_count": 32,
      "outputs": [
        {
          "output_type": "stream",
          "name": "stdout",
          "text": [
            "[25, 45, 52, 71, 83]\n"
          ]
        }
      ]
    },
    {
      "cell_type": "markdown",
      "source": [
        "28.Write a code to create a list with strings and print the element at the third index."
      ],
      "metadata": {
        "id": "lH33CdDQQsnX"
      }
    },
    {
      "cell_type": "code",
      "source": [
        "my_list = [\"apple\", \"banana\", \"cherry\", \"date\"]\n",
        "print(my_list[3])  # Output: 'date'"
      ],
      "metadata": {
        "colab": {
          "base_uri": "https://localhost:8080/"
        },
        "id": "AEBk4XYQQwuB",
        "outputId": "626170b4-4cdd-451d-e13f-84f83074c9e7"
      },
      "execution_count": 33,
      "outputs": [
        {
          "output_type": "stream",
          "name": "stdout",
          "text": [
            "date\n"
          ]
        }
      ]
    },
    {
      "cell_type": "markdown",
      "source": [
        "29.Write a code to combine two dictionaries into one and print the result.\n"
      ],
      "metadata": {
        "id": "gBcqyhdPQ0-n"
      }
    },
    {
      "cell_type": "code",
      "source": [
        "dict1 = {'a': 1, 'b': 2}\n",
        "dict2 = {'c': 3, 'd': 4}\n",
        "combined_dict = {**dict1, **dict2}\n",
        "print(combined_dict)"
      ],
      "metadata": {
        "colab": {
          "base_uri": "https://localhost:8080/"
        },
        "id": "m1ly84ELQ5XH",
        "outputId": "b02ab248-29e7-4fb0-b701-050249e77688"
      },
      "execution_count": 34,
      "outputs": [
        {
          "output_type": "stream",
          "name": "stdout",
          "text": [
            "{'a': 1, 'b': 2, 'c': 3, 'd': 4}\n"
          ]
        }
      ]
    },
    {
      "cell_type": "markdown",
      "source": [
        "30.Write a code to convert a list of strings into a set"
      ],
      "metadata": {
        "id": "sv47BlpQQ-dp"
      }
    },
    {
      "cell_type": "code",
      "source": [
        "my_list = [\"apple\", \"banana\", \"cherry\", \"apple\"]\n",
        "my_set = set(my_list)\n",
        "print(my_set)  # Output: {'banana', 'cherry', 'apple'}"
      ],
      "metadata": {
        "colab": {
          "base_uri": "https://localhost:8080/"
        },
        "id": "MvEc2M8WRCgU",
        "outputId": "77f7e7d7-fe73-417e-eefb-a12acb000564"
      },
      "execution_count": 35,
      "outputs": [
        {
          "output_type": "stream",
          "name": "stdout",
          "text": [
            "{'apple', 'cherry', 'banana'}\n"
          ]
        }
      ]
    }
  ]
}