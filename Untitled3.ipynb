{
  "nbformat": 4,
  "nbformat_minor": 0,
  "metadata": {
    "colab": {
      "provenance": [],
      "authorship_tag": "ABX9TyMGb67DThoqL/0PtF9uK79n",
      "include_colab_link": true
    },
    "kernelspec": {
      "name": "python3",
      "display_name": "Python 3"
    },
    "language_info": {
      "name": "python"
    }
  },
  "cells": [
    {
      "cell_type": "markdown",
      "metadata": {
        "id": "view-in-github",
        "colab_type": "text"
      },
      "source": [
        "<a href=\"https://colab.research.google.com/github/DebajyotiSarkhel/PYTHON/blob/main/Untitled3.ipynb\" target=\"_parent\"><img src=\"https://colab.research.google.com/assets/colab-badge.svg\" alt=\"Open In Colab\"/></a>"
      ]
    },
    {
      "cell_type": "markdown",
      "source": [
        "1.What is python and and why is it popular?\n",
        "\n",
        "Ans: Python is a hig level interepreted programming languages known for his simplicity and readibility. It is used for variety of purposes like Data Analyst, Machine Leaning, Web Development, Artificial Intelligence and many more.\n",
        "Python is popular:"
      ],
      "metadata": {
        "id": "_oC4jM7F01FG"
      }
    }
  ]
}